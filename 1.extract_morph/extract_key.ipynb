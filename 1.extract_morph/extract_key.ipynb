{
 "cells": [
  {
   "cell_type": "code",
   "execution_count": 1,
   "metadata": {},
   "outputs": [],
   "source": [
    "import pickle"
   ]
  },
  {
   "cell_type": "code",
   "execution_count": 2,
   "metadata": {},
   "outputs": [
    {
     "name": "stdout",
     "output_type": "stream",
     "text": [
      "100000\n",
      "200000\n",
      "300000\n",
      "400000\n",
      "500000\n",
      "600000\n",
      "700000\n",
      "800000\n",
      "900000\n",
      "1000000\n",
      "1100000\n",
      "1200000\n",
      "1300000\n",
      "1400000\n",
      "1500000\n",
      "1600000\n",
      "1700000\n",
      "1800000\n",
      "1900000\n",
      "2000000\n",
      "2100000\n",
      "2200000\n",
      "2300000\n",
      "2400000\n",
      "2500000\n",
      "2600000\n",
      "2700000\n",
      "2800000\n",
      "2900000\n",
      "3000000\n",
      "3100000\n",
      "3200000\n",
      "3300000\n",
      "3400000\n",
      "3500000\n",
      "3600000\n",
      "3700000\n",
      "3800000\n",
      "3900000\n",
      "4000000\n",
      "4100000\n",
      "4200000\n",
      "4300000\n",
      "4400000\n",
      "4500000\n",
      "4600000\n",
      "4700000\n",
      "4800000\n",
      "4900000\n",
      "5000000\n",
      "5100000\n",
      "5200000\n",
      "5300000\n",
      "5400000\n",
      "5500000\n",
      "5600000\n",
      "5700000\n",
      "5800000\n",
      "5900000\n",
      "6000000\n",
      "6100000\n"
     ]
    }
   ],
   "source": [
    "# startPoint : 추가시작할 행을 적어\n",
    "\n",
    "path='data_all.txt'\n",
    "fread = open(path, encoding=\"utf8\")\n",
    "\n",
    "keyDict={}\n",
    "keyId=-1\n",
    "n=0\n",
    "\n",
    "while (1):\n",
    "    n+=1\n",
    "    if n%100000==0:\n",
    "        print(n)\n",
    "        \n",
    "    line = fread.readline() #한 줄씩 읽음.\n",
    "    # [모두 읽으면 while문 종료]\n",
    "    if not line:\n",
    "        break \n",
    "        \n",
    "    # [줄바꿈이면 다음껄로]\n",
    "    if line==\"\\n\":\n",
    "        continue\n",
    "\n",
    "    # [새문서 시작]\n",
    "    if line[:6]==\"</doc>\":\n",
    "        keyId+=1\n",
    "        fread.readline()\n",
    "        title=fread.readline().rstrip(\"\\n\")\n",
    "        keyDict[keyId]=title\n",
    "    # [새문서 시작2]\n",
    "    elif line[:4]=='<doc':\n",
    "        keyId+=1\n",
    "        title=fread.readline().rstrip(\"\\n\")\n",
    "        keyDict[keyId]=title\n",
    "\n",
    "\n",
    "fread.close()"
   ]
  },
  {
   "cell_type": "code",
   "execution_count": 3,
   "metadata": {},
   "outputs": [
    {
     "name": "stdout",
     "output_type": "stream",
     "text": [
      "519363\n"
     ]
    }
   ],
   "source": [
    "del keyDict[519363]\n",
    "print(len(keyDict))"
   ]
  },
  {
   "cell_type": "code",
   "execution_count": 4,
   "metadata": {},
   "outputs": [],
   "source": [
    "with open('doc_dict.p', 'wb') as file:\n",
    "    pickle.dump(keyDict, file)"
   ]
  },
  {
   "cell_type": "code",
   "execution_count": 5,
   "metadata": {},
   "outputs": [],
   "source": [
    "with open('doc_dict.p', 'rb') as file:\n",
    "    load_dict=pickle.load(file)"
   ]
  }
 ],
 "metadata": {
  "kernelspec": {
   "display_name": "Python 3",
   "language": "python",
   "name": "python3"
  },
  "language_info": {
   "codemirror_mode": {
    "name": "ipython",
    "version": 3
   },
   "file_extension": ".py",
   "mimetype": "text/x-python",
   "name": "python",
   "nbconvert_exporter": "python",
   "pygments_lexer": "ipython3",
   "version": "3.7.6"
  }
 },
 "nbformat": 4,
 "nbformat_minor": 4
}
