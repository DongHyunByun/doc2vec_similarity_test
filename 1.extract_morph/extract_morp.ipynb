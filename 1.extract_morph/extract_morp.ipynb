{
 "cells": [
  {
   "cell_type": "code",
   "execution_count": null,
   "metadata": {},
   "outputs": [],
   "source": [
    "import re\n",
    "from gensim.models.doc2vec import TaggedDocument\n",
    "from konlpy.tag import Okt\n",
    "import pickle"
   ]
  },
  {
   "cell_type": "code",
   "execution_count": null,
   "metadata": {},
   "outputs": [],
   "source": [
    "def clean_str(text):\n",
    "    pattern = '([a-zA-Z0-9_.+-]+@[a-zA-Z0-9-]+\\.[a-zA-Z0-9-.]+)' # E-mail제거\n",
    "    text = re.sub(pattern=pattern, repl='', string=text)\n",
    "    pattern = '(http|ftp|https)://(?:[-\\w.]|(?:%[\\da-fA-F]{2}))+' # URL제거\n",
    "    text = re.sub(pattern=pattern, repl='', string=text)\n",
    "    pattern = '([ㄱ-ㅎㅏ-ㅣ]+)'  # 한글 자음, 모음 제거\n",
    "    text = re.sub(pattern=pattern, repl='', string=text)\n",
    "    pattern = '<[^>]*>'         # HTML 태그 제거\n",
    "    text = re.sub(pattern=pattern, repl='', string=text)\n",
    "    pattern = '[^\\w\\s]'         # 특수기호제거\n",
    "    text = re.sub(pattern=pattern, repl='', string=text)\n",
    "    text=text.rstrip('\\n')\n",
    "    return text\n",
    "\n",
    "def saveP(n):\n",
    "    fileName=str(n)[:-5]+'.p'\n",
    "    with open(fileName, 'wb') as file:\n",
    "        pickle.dump(result, file)\n"
   ]
  },
  {
   "cell_type": "code",
   "execution_count": null,
   "metadata": {
    "scrolled": true
   },
   "outputs": [],
   "source": [
    "path='data_all.txt'\n",
    "fread = open(path, encoding=\"utf8\")\n",
    "\n",
    "keyId=-1\n",
    "n=0\n",
    "result=[]\n",
    "okt=Okt()\n",
    "\n",
    "\n",
    "# startPoint : 시작할 지점\n",
    "# cheak : 저장할 단위 \n",
    "\n",
    "cheak=100000\n",
    "startPoint=0\n",
    "\n",
    "while (1):\n",
    "    line = fread.readline() #한 줄씩 읽음.\n",
    "    # [모두 읽으면 while문 종료]\n",
    "    if not line:\n",
    "        saveP(\"9900000\")\n",
    "        break \n",
    "        \n",
    "    # [줄바꿈이면 다음껄로]\n",
    "    if line==\"\\n\":\n",
    "        continue\n",
    "\n",
    "    # [새문서 시작]\n",
    "    if line[:6]==\"</doc>\":\n",
    "        fread.readline()\n",
    "        fread.readline()\n",
    "        keyId+=1\n",
    "    # [새문서 시작2]\n",
    "    elif line[:4]=='<doc':\n",
    "        fread.readline()\n",
    "        keyId+=1\n",
    "\n",
    "    #그냥문장\n",
    "    else:\n",
    "        if startPoint<=n:\n",
    "            line=clean_str(line)\n",
    "            lineL=okt.morphs(line)\n",
    "            taggedL=TaggedDocument(words=lineL, tags=['%d'%keyId])\n",
    "            result.append(taggedL)\n",
    "            n+=1\n",
    "    \n",
    "            #cheak개마다 저장하고 리셋\n",
    "            if n%cheak==0:\n",
    "                saveP(n)\n",
    "                result=[]\n",
    "                print(n)\n",
    "        else:\n",
    "            n+=1\n",
    "\n",
    "fread.close()"
   ]
  }
 ],
 "metadata": {
  "kernelspec": {
   "display_name": "Python 3",
   "language": "python",
   "name": "python3"
  },
  "language_info": {
   "codemirror_mode": {
    "name": "ipython",
    "version": 3
   },
   "file_extension": ".py",
   "mimetype": "text/x-python",
   "name": "python",
   "nbconvert_exporter": "python",
   "pygments_lexer": "ipython3",
   "version": "3.7.6"
  }
 },
 "nbformat": 4,
 "nbformat_minor": 4
}
