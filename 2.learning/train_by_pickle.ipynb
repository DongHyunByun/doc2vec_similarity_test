{
 "cells": [
  {
   "cell_type": "code",
   "execution_count": null,
   "metadata": {},
   "outputs": [],
   "source": [
    "import os\n",
    "import pickle\n",
    "from gensim.models import Doc2Vec"
   ]
  },
  {
   "cell_type": "code",
   "execution_count": null,
   "metadata": {},
   "outputs": [],
   "source": [
    "class Doc2VecSentences:  \n",
    "    def __init__(self,path):\n",
    "        self.path=path\n",
    "    \n",
    "    def __iter__(self):\n",
    "        print(\"학습!\")\n",
    "        # 파일을 다시 처음부터 읽음.\n",
    "        folder=self.path #디렉토리 내에 폴더\n",
    "        subdir_names=os.listdir(folder) #subdir_names에 폴더내의 모든 파일이름이 들어간다\n",
    "        for now_pickle in subdir_names:\n",
    "            #pickle 오픈\n",
    "            if now_pickle!='.DS_Store':\n",
    "                print(now_pickle)\n",
    "                with open(path+now_pickle, 'rb') as file:\n",
    "                    L=pickle.load(file)\n",
    "                    for taggedLine in L:\n",
    "                        yield taggedLine\n",
    "                    "
   ]
  },
  {
   "cell_type": "code",
   "execution_count": null,
   "metadata": {},
   "outputs": [],
   "source": [
    "path='test_folder/'\n",
    "doc2vec_corpus=Doc2VecSentences(path)\n",
    "doc2vec_model = Doc2Vec(doc2vec_corpus)"
   ]
  }
 ],
 "metadata": {
  "kernelspec": {
   "display_name": "Python 3",
   "language": "python",
   "name": "python3"
  },
  "language_info": {
   "codemirror_mode": {
    "name": "ipython",
    "version": 3
   },
   "file_extension": ".py",
   "mimetype": "text/x-python",
   "name": "python",
   "nbconvert_exporter": "python",
   "pygments_lexer": "ipython3",
   "version": "3.7.6"
  }
 },
 "nbformat": 4,
 "nbformat_minor": 4
}
