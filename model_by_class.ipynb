{
  "nbformat": 4,
  "nbformat_minor": 0,
  "metadata": {
    "kernelspec": {
      "display_name": "Python 3",
      "language": "python",
      "name": "python3"
    },
    "language_info": {
      "codemirror_mode": {
        "name": "ipython",
        "version": 3
      },
      "file_extension": ".py",
      "mimetype": "text/x-python",
      "name": "python",
      "nbconvert_exporter": "python",
      "pygments_lexer": "ipython3",
      "version": "3.7.6"
    },
    "colab": {
      "name": "model_by_class.ipynb",
      "provenance": [],
      "include_colab_link": true
    }
  },
  "cells": [
    {
      "cell_type": "markdown",
      "metadata": {
        "id": "view-in-github",
        "colab_type": "text"
      },
      "source": [
        "<a href=\"https://colab.research.google.com/github/DongHyunByun/doc2vec_similarity_test/blob/master/model_by_class.ipynb\" target=\"_parent\"><img src=\"https://colab.research.google.com/assets/colab-badge.svg\" alt=\"Open In Colab\"/></a>"
      ]
    },
    {
      "cell_type": "code",
      "metadata": {
        "id": "b4nkeqi6PQrV"
      },
      "source": [
        "import re\n",
        "from nltk.tokenize import word_tokenize, sent_tokenize\n",
        "from gensim.models import Doc2Vec\n",
        "from gensim.models.doc2vec import TaggedDocument"
      ],
      "execution_count": null,
      "outputs": []
    },
    {
      "cell_type": "code",
      "metadata": {
        "id": "M4eaIgpwPQrZ"
      },
      "source": [
        " class Doc2VecSentences:\n",
        "    def __init__(self,path):\n",
        "        self.path=path\n",
        "        self.keyDict={}\n",
        "        \n",
        "    def clean_str(self,text):\n",
        "        pattern = '([a-zA-Z0-9_.+-]+@[a-zA-Z0-9-]+\\.[a-zA-Z0-9-.]+)' # E-mail제거\n",
        "        text = re.sub(pattern=pattern, repl='', string=text)\n",
        "        pattern = '(http|ftp|https)://(?:[-\\w.]|(?:%[\\da-fA-F]{2}))+' # URL제거\n",
        "        text = re.sub(pattern=pattern, repl='', string=text)\n",
        "        pattern = '([ㄱ-ㅎㅏ-ㅣ]+)'  # 한글 자음, 모음 제거\n",
        "        text = re.sub(pattern=pattern, repl='', string=text)\n",
        "        pattern = '<[^>]*>'         # HTML 태그 제거\n",
        "        text = re.sub(pattern=pattern, repl='', string=text)\n",
        "        pattern = '[^\\w\\s]'         # 특수기호제거\n",
        "        text = re.sub(pattern=pattern, repl='', string=text)\n",
        "        return text\n",
        "    \n",
        "    def __iter__(self):\n",
        "        # 파일을 다시 처음부터 읽음.\n",
        "        result = []\n",
        "        keyId=0\n",
        "        fread = open(self.path, encoding=\"utf8\")\n",
        "        print(\"!\")\n",
        "        while (1):\n",
        "            line = fread.readline() #한 줄씩 읽음.\n",
        "            if not line: \n",
        "                break # 모두 읽으면 while문 종료.\n",
        "            lineL=line.split()\n",
        "            if lineL:\n",
        "                #새문서 시작\n",
        "                if lineL[0]==\"</doc>\":\n",
        "                    fread.readline()\n",
        "                    title=fread.readline().rstrip(\"\\n\")\n",
        "                    self.keyDict[keyId]=title\n",
        "                    keyId+=1\n",
        "                elif lineL[0]=='<doc':\n",
        "                    title=fread.readline().rstrip(\"\\n\")\n",
        "                    self.keyDict[keyId]=title\n",
        "                    keyId+=1\n",
        "                #그냥문장\n",
        "                else:\n",
        "                    lineL=list(map(self.clean_str,lineL))\n",
        "                    yield TaggedDocument(words=lineL, tags=['#%d'%keyId])\n",
        "\n",
        "        fread.close()\n"
      ],
      "execution_count": null,
      "outputs": []
    },
    {
      "cell_type": "code",
      "metadata": {
        "id": "eXlUn4RYPQre"
      },
      "source": [
        "path='wiki_data.txt'\n",
        "doc2vec_corpus=Doc2VecSentences(path)\n",
        "print(\"?\")\n",
        "doc2vec_model = Doc2Vec(doc2vec_corpus)"
      ],
      "execution_count": null,
      "outputs": []
    }
  ]
}